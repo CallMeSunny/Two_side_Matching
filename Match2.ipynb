{
 "cells": [
  {
   "cell_type": "code",
   "execution_count": 61,
   "metadata": {},
   "outputs": [],
   "source": [
    "import numpy as np\n",
    "import os\n",
    "import pandas as pd"
   ]
  },
  {
   "cell_type": "markdown",
   "metadata": {},
   "source": [
    "## Data making    "
   ]
  },
  {
   "cell_type": "code",
   "execution_count": 62,
   "metadata": {},
   "outputs": [],
   "source": [
    "def data_rate(s_c,e_c,s_p,e_p):\n",
    "    k1 = 0.65*2\n",
    "    k2 = 0.35*2\n",
    "    rate = k1*abs((s_c - s_p)/(e_p-s_p)) + k2*abs((e_p - e_c)/(e_p-s_p))\n",
    "    return rate\n",
    "## waste rate  越大越不好\n",
    "Car_n = 1000\n",
    "Park_n = 1200"
   ]
  },
  {
   "cell_type": "code",
   "execution_count": 144,
   "metadata": {},
   "outputs": [],
   "source": [
    "count = '5_1200'\n",
    "path = 'Data/'+ count"
   ]
  },
  {
   "cell_type": "code",
   "execution_count": 145,
   "metadata": {},
   "outputs": [],
   "source": [
    "Car_time = pd.read_csv(path+'Car_time.csv')\n",
    "\n",
    "Park_time = pd.read_csv(path+'Park_time.csv')\n",
    "\n",
    "User_cost = pd.read_csv(path+'User_cost.csv')\n",
    "\n",
    "User_PreList = pd.read_csv(path+'User_PreferenceList.csv')"
   ]
  },
  {
   "cell_type": "code",
   "execution_count": 146,
   "metadata": {},
   "outputs": [],
   "source": [
    "Pre_ID = []\n",
    "for i in range(Car_n):\n",
    "    temp = []\n",
    "    for j in range(Park_n):\n",
    "        k = int(User_PreList.loc[i][j].split(',')[0][1:])\n",
    "        temp.append(k)\n",
    "    Pre_ID.append(temp)"
   ]
  },
  {
   "cell_type": "code",
   "execution_count": 147,
   "metadata": {},
   "outputs": [],
   "source": [
    "Car_Time = np.array(Car_time)\n",
    "Park_Time = np.array(Park_time)"
   ]
  },
  {
   "cell_type": "code",
   "execution_count": 148,
   "metadata": {},
   "outputs": [],
   "source": [
    "ranklist = Pre_ID"
   ]
  },
  {
   "cell_type": "code",
   "execution_count": null,
   "metadata": {},
   "outputs": [],
   "source": []
  },
  {
   "cell_type": "code",
   "execution_count": 149,
   "metadata": {},
   "outputs": [
    {
     "data": {
      "text/plain": [
       "1200"
      ]
     },
     "execution_count": 149,
     "metadata": {},
     "output_type": "execute_result"
    }
   ],
   "source": [
    "Car_Time\n",
    "Park_Time\n",
    "len(ranklist[1])\n"
   ]
  },
  {
   "cell_type": "markdown",
   "metadata": {},
   "source": [
    "### Slide Window"
   ]
  },
  {
   "cell_type": "code",
   "execution_count": 150,
   "metadata": {},
   "outputs": [],
   "source": [
    "Suc_match = []\n",
    "Matching = []\n",
    "Car_sta = []\n",
    "Park_sta = []\n",
    "for i in range(Park_n):\n",
    "    if i < Car_n:\n",
    "        Car_sta.append(0)\n",
    "    Park_sta.append(0)\n",
    "    #initiate the list"
   ]
  },
  {
   "cell_type": "code",
   "execution_count": 151,
   "metadata": {},
   "outputs": [],
   "source": [
    "def find_index(car_index):\n",
    "    index = -1\n",
    "    for i in range(len(Matching)):\n",
    "        if Matching[i][1] == car_index:\n",
    "            index = i\n",
    "            break\n",
    "    return index "
   ]
  },
  {
   "cell_type": "code",
   "execution_count": 152,
   "metadata": {},
   "outputs": [],
   "source": [
    "def find_car_index(park_index):\n",
    "    car_index = -1\n",
    "    for i in Matching:\n",
    "        if i[2] == park_index:\n",
    "            car_index = i[1]\n",
    "            break\n",
    "    return car_index "
   ]
  },
  {
   "cell_type": "code",
   "execution_count": 153,
   "metadata": {},
   "outputs": [],
   "source": [
    "def Modify(car_index):##DC-G-S\n",
    "    #print(car_index)\n",
    "    #print(Car_sta[car_index])\n",
    "    now_park_index = ranklist[car_index][Car_sta[car_index]] - 1\n",
    "    if Park_sta[now_park_index] == 0:\n",
    "        #print('find_index:',find_index(car_index))\n",
    "        Matching[find_index(car_index+1)] = [Car_Time[car_index][0],car_index+1,now_park_index+1]\n",
    "        Park_sta[now_park_index] = 1\n",
    "        return \n",
    "    if find_car_index(now_park_index+1) == -1:\n",
    "        Car_sta[car_index] = Car_sta[car_index] + 1\n",
    "        Modify(car_index)\n",
    "    else:\n",
    "        index = find_car_index(now_park_index+1) - 1\n",
    "        now = data_rate(Car_Time[car_index][0],Car_Time[car_index][1],Park_Time[now_park_index][0],Park_Time[now_park_index][1])\n",
    "        ago = data_rate(Car_Time[index][0],Car_Time[index][1],Park_Time[now_park_index][0],Park_Time[now_park_index][1])\n",
    "        if now < ago:\n",
    "            Car_sta[index] = Car_sta[index] + 1\n",
    "            Modify(index)\n",
    "        else:\n",
    "            Car_sta[car_index] = Car_sta[car_index] + 1\n",
    "            Modify(car_index)"
   ]
  },
  {
   "cell_type": "code",
   "execution_count": 154,
   "metadata": {},
   "outputs": [],
   "source": [
    "def Modify1(car_index):## FIFO\n",
    "    #print(car_index)\n",
    "    #print(Car_sta[car_index])\n",
    "    now_park_index = ranklist[car_index][Car_sta[car_index]] - 1\n",
    "    if Park_sta[now_park_index] == 0:\n",
    "        #print('find_index:',find_index(car_index))\n",
    "        Matching[find_index(car_index+1)] = [Car_Time[car_index][0],car_index+1,now_park_index+1]\n",
    "        Park_sta[now_park_index] = 1\n",
    "        return \n",
    "    Car_sta[car_index] = Car_sta[car_index] + 1\n",
    "    Modify1(car_index)\n",
    "    '''if find_car_index(now_park_index+1) == -1:\n",
    "        Car_sta[car_index] = Car_sta[car_index] + 1\n",
    "        Modify(car_index)\n",
    "    else:\n",
    "        index = find_car_index(now_park_index+1) - 1\n",
    "        now = data_rate(Car_Time[car_index][0],Car_Time[car_index][1],Park_Time[now_park_index][0],Park_Time[now_park_index][1])\n",
    "        ago = data_rate(Car_Time[index][0],Car_Time[index][1],Park_Time[now_park_index][0],Park_Time[now_park_index][1])\n",
    "        if now < ago:\n",
    "            Car_sta[index] = Car_sta[index] + 1\n",
    "            Modify(index)\n",
    "        else:\n",
    "            Car_sta[car_index] = Car_sta[car_index] + 1\n",
    "            Modify(car_index)'''"
   ]
  },
  {
   "cell_type": "code",
   "execution_count": 155,
   "metadata": {},
   "outputs": [],
   "source": [
    "def Match(car):\n",
    "    Matching.append(car)\n",
    "    Car_index = car[1]-1\n",
    "    Modify(Car_index)"
   ]
  },
  {
   "cell_type": "code",
   "execution_count": 156,
   "metadata": {},
   "outputs": [],
   "source": [
    "def Match1(car):\n",
    "    Matching.append(car)\n",
    "    Car_index = car[1]-1\n",
    "    Modify1(Car_index)"
   ]
  },
  {
   "cell_type": "code",
   "execution_count": 157,
   "metadata": {},
   "outputs": [],
   "source": [
    "point =0.012"
   ]
  },
  {
   "cell_type": "code",
   "execution_count": 158,
   "metadata": {},
   "outputs": [],
   "source": [
    "Matching = []\n",
    "Suc_match = []\n",
    "for i in range(Park_n):\n",
    "    if i < Car_n:\n",
    "        Car_sta.append(0)\n",
    "    Park_sta.append(0)\n",
    "time1 = 0.0\n",
    "time2 = point\n",
    "for i in range(Car_n*2):\n",
    "    if i < Car_n:\n",
    "        tempdata = [Car_Time[i][0],i+1,ranklist[i][0]]\n",
    "        Match(tempdata)\n",
    "    \n",
    "    count = 0\n",
    "    for j in range(len(Matching)):\n",
    "        if Matching[j][0] >= time1 and Matching[j][0] <= time2:\n",
    "            Suc_match.append(Matching[count])\n",
    "            count = count+1\n",
    "    Matching = Matching[count:]\n",
    "    if len(Suc_match) != 0:\n",
    "        for k in Suc_match:\n",
    "            if Car_Time[k[1]-1][1] >= time1 and Car_Time[k[1]-1][1] <= time2:\n",
    "                Park_sta[k[2]-1] = 0\n",
    "                #Park_Time[k[2]-1][0] = Car_Time[k[1]-1][1]\n",
    "    time1 = time1 + point\n",
    "    time2 = time2 + point\n",
    "    '''input()\n",
    "    print(time1,'            ',time2)\n",
    "    print(i,':Matching:',Matching)\n",
    "    print('Suc_match:',Suc_match)'''"
   ]
  },
  {
   "cell_type": "code",
   "execution_count": 159,
   "metadata": {},
   "outputs": [
    {
     "data": {
      "text/plain": [
       "0"
      ]
     },
     "execution_count": 159,
     "metadata": {},
     "output_type": "execute_result"
    }
   ],
   "source": [
    "len(Matching)"
   ]
  },
  {
   "cell_type": "code",
   "execution_count": 160,
   "metadata": {},
   "outputs": [
    {
     "data": {
      "text/plain": [
       "1000"
      ]
     },
     "execution_count": 160,
     "metadata": {},
     "output_type": "execute_result"
    }
   ],
   "source": [
    "len(Suc_match)"
   ]
  },
  {
   "cell_type": "code",
   "execution_count": 161,
   "metadata": {},
   "outputs": [],
   "source": [
    "def Index(car,park):\n",
    "    ind = 0\n",
    "    for i in range(len(ranklist[car])):\n",
    "        if park == ranklist[car][i]:\n",
    "            ind = i + 1\n",
    "            break\n",
    "    return ind"
   ]
  },
  {
   "cell_type": "code",
   "execution_count": 162,
   "metadata": {},
   "outputs": [],
   "source": [
    "Match_num = []\n",
    "Unique = []\n",
    "for i in Suc_match:\n",
    "    Match_num.append(Index(i[1]-1,i[2]))\n",
    "    Unique.append(i[2])"
   ]
  },
  {
   "cell_type": "code",
   "execution_count": 163,
   "metadata": {},
   "outputs": [
    {
     "data": {
      "text/plain": [
       "933"
      ]
     },
     "execution_count": 163,
     "metadata": {},
     "output_type": "execute_result"
    }
   ],
   "source": [
    "num = len(np.unique(Unique))\n",
    "num"
   ]
  },
  {
   "cell_type": "code",
   "execution_count": 164,
   "metadata": {},
   "outputs": [],
   "source": [
    "sss = sorted(Match_num)"
   ]
  },
  {
   "cell_type": "code",
   "execution_count": null,
   "metadata": {},
   "outputs": [],
   "source": []
  },
  {
   "cell_type": "code",
   "execution_count": 165,
   "metadata": {},
   "outputs": [],
   "source": [
    "import matplotlib.pyplot as plt"
   ]
  },
  {
   "cell_type": "code",
   "execution_count": 166,
   "metadata": {},
   "outputs": [
    {
     "data": {
      "text/plain": [
       "\"plt.plot(sorted(Match_num))\\nplt.xlabel('Car ID')\\nplt.ylabel('Preference Number')\\nplt.savefig('/home/sunny/Paper/image/9.jpg')\\n\""
      ]
     },
     "execution_count": 166,
     "metadata": {},
     "output_type": "execute_result"
    }
   ],
   "source": [
    "'''plt.plot(sorted(Match_num))\n",
    "plt.xlabel('Car ID')\n",
    "plt.ylabel('Preference Number')\n",
    "plt.savefig('/home/sunny/Paper/image/9.jpg')\n",
    "'''"
   ]
  },
  {
   "cell_type": "code",
   "execution_count": 167,
   "metadata": {},
   "outputs": [],
   "source": [
    "#Suc_match"
   ]
  },
  {
   "cell_type": "code",
   "execution_count": 168,
   "metadata": {},
   "outputs": [
    {
     "name": "stdout",
     "output_type": "stream",
     "text": [
      "0.3595035451361873\n"
     ]
    }
   ],
   "source": [
    "Sum_rate = 0\n",
    "for i in range(len(Suc_match)):\n",
    "    rate = abs(Car_Time[Suc_match[i][1]-1][1] - Car_Time[Suc_match[i][1]-1][0])/abs(Park_Time[Suc_match[i][2]-1][1] - Park_Time[Suc_match[i][2]-1][0])\n",
    "    #print(rate)\n",
    "    Sum_rate = Sum_rate + rate\n",
    "print(Sum_rate/num)"
   ]
  },
  {
   "cell_type": "code",
   "execution_count": 169,
   "metadata": {},
   "outputs": [
    {
     "name": "stdout",
     "output_type": "stream",
     "text": [
      "933\n"
     ]
    }
   ],
   "source": [
    "print(num)"
   ]
  },
  {
   "cell_type": "code",
   "execution_count": 170,
   "metadata": {},
   "outputs": [
    {
     "name": "stdout",
     "output_type": "stream",
     "text": [
      "1.857\n"
     ]
    }
   ],
   "source": [
    "print(sum(sss)/len(sss))"
   ]
  },
  {
   "cell_type": "code",
   "execution_count": null,
   "metadata": {},
   "outputs": [],
   "source": []
  },
  {
   "cell_type": "code",
   "execution_count": null,
   "metadata": {},
   "outputs": [],
   "source": []
  },
  {
   "cell_type": "code",
   "execution_count": null,
   "metadata": {},
   "outputs": [],
   "source": []
  },
  {
   "cell_type": "code",
   "execution_count": null,
   "metadata": {},
   "outputs": [],
   "source": []
  },
  {
   "cell_type": "code",
   "execution_count": null,
   "metadata": {},
   "outputs": [],
   "source": []
  },
  {
   "cell_type": "code",
   "execution_count": null,
   "metadata": {},
   "outputs": [],
   "source": []
  },
  {
   "cell_type": "code",
   "execution_count": null,
   "metadata": {},
   "outputs": [],
   "source": []
  },
  {
   "cell_type": "code",
   "execution_count": null,
   "metadata": {},
   "outputs": [],
   "source": []
  },
  {
   "cell_type": "code",
   "execution_count": null,
   "metadata": {},
   "outputs": [],
   "source": []
  },
  {
   "cell_type": "code",
   "execution_count": null,
   "metadata": {},
   "outputs": [],
   "source": [
    "\n"
   ]
  },
  {
   "cell_type": "code",
   "execution_count": null,
   "metadata": {},
   "outputs": [],
   "source": [
    "\n"
   ]
  },
  {
   "cell_type": "code",
   "execution_count": null,
   "metadata": {},
   "outputs": [],
   "source": []
  },
  {
   "cell_type": "code",
   "execution_count": null,
   "metadata": {},
   "outputs": [],
   "source": []
  }
 ],
 "metadata": {
  "kernelspec": {
   "display_name": "Python 3",
   "language": "python",
   "name": "python3"
  },
  "language_info": {
   "codemirror_mode": {
    "name": "ipython",
    "version": 3
   },
   "file_extension": ".py",
   "mimetype": "text/x-python",
   "name": "python",
   "nbconvert_exporter": "python",
   "pygments_lexer": "ipython3",
   "version": "3.6.5"
  }
 },
 "nbformat": 4,
 "nbformat_minor": 2
}
